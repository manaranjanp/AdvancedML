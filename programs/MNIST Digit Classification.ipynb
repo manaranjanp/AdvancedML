{
 "cells": [
  {
   "cell_type": "markdown",
   "metadata": {},
   "source": [
    "## Extracting all Images \n",
    "\n",
    "### Import all libraries"
   ]
  },
  {
   "cell_type": "markdown",
   "metadata": {},
   "source": [
    "Note:\n",
    "\n",
    "pip install opencv-python"
   ]
  },
  {
   "cell_type": "code",
   "execution_count": 3,
   "metadata": {},
   "outputs": [],
   "source": [
    "import pandas as pd\n",
    "import numpy as np\n",
    "import matplotlib.pyplot as plt\n",
    "import csv\n",
    "import cv2\n",
    "%matplotlib inline"
   ]
  },
  {
   "cell_type": "markdown",
   "metadata": {},
   "source": [
    "### The Dataset"
   ]
  },
  {
   "cell_type": "markdown",
   "metadata": {},
   "source": [
    "#### MNIST Digit Recognition "
   ]
  },
  {
   "cell_type": "markdown",
   "metadata": {},
   "source": [
    "The data files train.csv and test.csv contain gray-scale images of hand-drawn digits, from zero through nine.\n",
    "\n",
    "https://www.kaggle.com/c/digit-recognizer/data\n",
    "\n",
    "Each image is 28 pixels in height and 28 pixels in width, for a total of 784 pixels in total. Each pixel has a single pixel-value associated with it, indicating the lightness or darkness of that pixel, with higher numbers meaning darker. This pixel-value is an integer between 0 and 255, inclusive.\n",
    "\n",
    "The training data set, (train.csv), has 785 columns. The first column, called \"label\", is the digit that was drawn by the user. The rest of the columns contain the pixel-values of the associated image."
   ]
  },
  {
   "cell_type": "markdown",
   "metadata": {},
   "source": [
    "### Read the images and labels"
   ]
  },
  {
   "cell_type": "code",
   "execution_count": 7,
   "metadata": {},
   "outputs": [],
   "source": [
    "data_file = '../data/mnist.csv'"
   ]
  },
  {
   "cell_type": "code",
   "execution_count": 8,
   "metadata": {},
   "outputs": [],
   "source": [
    "digits_df = pd.read_csv( data_file )"
   ]
  },
  {
   "cell_type": "code",
   "execution_count": 9,
   "metadata": {},
   "outputs": [
    {
     "data": {
      "text/html": [
       "<div>\n",
       "<style scoped>\n",
       "    .dataframe tbody tr th:only-of-type {\n",
       "        vertical-align: middle;\n",
       "    }\n",
       "\n",
       "    .dataframe tbody tr th {\n",
       "        vertical-align: top;\n",
       "    }\n",
       "\n",
       "    .dataframe thead th {\n",
       "        text-align: right;\n",
       "    }\n",
       "</style>\n",
       "<table border=\"1\" class=\"dataframe\">\n",
       "  <thead>\n",
       "    <tr style=\"text-align: right;\">\n",
       "      <th></th>\n",
       "      <th>label</th>\n",
       "      <th>pixel0</th>\n",
       "      <th>pixel1</th>\n",
       "      <th>pixel2</th>\n",
       "      <th>pixel3</th>\n",
       "      <th>pixel4</th>\n",
       "      <th>pixel5</th>\n",
       "      <th>pixel6</th>\n",
       "      <th>pixel7</th>\n",
       "      <th>pixel8</th>\n",
       "      <th>...</th>\n",
       "      <th>pixel774</th>\n",
       "      <th>pixel775</th>\n",
       "      <th>pixel776</th>\n",
       "      <th>pixel777</th>\n",
       "      <th>pixel778</th>\n",
       "      <th>pixel779</th>\n",
       "      <th>pixel780</th>\n",
       "      <th>pixel781</th>\n",
       "      <th>pixel782</th>\n",
       "      <th>pixel783</th>\n",
       "    </tr>\n",
       "  </thead>\n",
       "  <tbody>\n",
       "    <tr>\n",
       "      <th>0</th>\n",
       "      <td>1</td>\n",
       "      <td>0</td>\n",
       "      <td>0</td>\n",
       "      <td>0</td>\n",
       "      <td>0</td>\n",
       "      <td>0</td>\n",
       "      <td>0</td>\n",
       "      <td>0</td>\n",
       "      <td>0</td>\n",
       "      <td>0</td>\n",
       "      <td>...</td>\n",
       "      <td>0</td>\n",
       "      <td>0</td>\n",
       "      <td>0</td>\n",
       "      <td>0</td>\n",
       "      <td>0</td>\n",
       "      <td>0</td>\n",
       "      <td>0</td>\n",
       "      <td>0</td>\n",
       "      <td>0</td>\n",
       "      <td>0</td>\n",
       "    </tr>\n",
       "    <tr>\n",
       "      <th>1</th>\n",
       "      <td>0</td>\n",
       "      <td>0</td>\n",
       "      <td>0</td>\n",
       "      <td>0</td>\n",
       "      <td>0</td>\n",
       "      <td>0</td>\n",
       "      <td>0</td>\n",
       "      <td>0</td>\n",
       "      <td>0</td>\n",
       "      <td>0</td>\n",
       "      <td>...</td>\n",
       "      <td>0</td>\n",
       "      <td>0</td>\n",
       "      <td>0</td>\n",
       "      <td>0</td>\n",
       "      <td>0</td>\n",
       "      <td>0</td>\n",
       "      <td>0</td>\n",
       "      <td>0</td>\n",
       "      <td>0</td>\n",
       "      <td>0</td>\n",
       "    </tr>\n",
       "    <tr>\n",
       "      <th>2</th>\n",
       "      <td>1</td>\n",
       "      <td>0</td>\n",
       "      <td>0</td>\n",
       "      <td>0</td>\n",
       "      <td>0</td>\n",
       "      <td>0</td>\n",
       "      <td>0</td>\n",
       "      <td>0</td>\n",
       "      <td>0</td>\n",
       "      <td>0</td>\n",
       "      <td>...</td>\n",
       "      <td>0</td>\n",
       "      <td>0</td>\n",
       "      <td>0</td>\n",
       "      <td>0</td>\n",
       "      <td>0</td>\n",
       "      <td>0</td>\n",
       "      <td>0</td>\n",
       "      <td>0</td>\n",
       "      <td>0</td>\n",
       "      <td>0</td>\n",
       "    </tr>\n",
       "    <tr>\n",
       "      <th>3</th>\n",
       "      <td>4</td>\n",
       "      <td>0</td>\n",
       "      <td>0</td>\n",
       "      <td>0</td>\n",
       "      <td>0</td>\n",
       "      <td>0</td>\n",
       "      <td>0</td>\n",
       "      <td>0</td>\n",
       "      <td>0</td>\n",
       "      <td>0</td>\n",
       "      <td>...</td>\n",
       "      <td>0</td>\n",
       "      <td>0</td>\n",
       "      <td>0</td>\n",
       "      <td>0</td>\n",
       "      <td>0</td>\n",
       "      <td>0</td>\n",
       "      <td>0</td>\n",
       "      <td>0</td>\n",
       "      <td>0</td>\n",
       "      <td>0</td>\n",
       "    </tr>\n",
       "    <tr>\n",
       "      <th>4</th>\n",
       "      <td>0</td>\n",
       "      <td>0</td>\n",
       "      <td>0</td>\n",
       "      <td>0</td>\n",
       "      <td>0</td>\n",
       "      <td>0</td>\n",
       "      <td>0</td>\n",
       "      <td>0</td>\n",
       "      <td>0</td>\n",
       "      <td>0</td>\n",
       "      <td>...</td>\n",
       "      <td>0</td>\n",
       "      <td>0</td>\n",
       "      <td>0</td>\n",
       "      <td>0</td>\n",
       "      <td>0</td>\n",
       "      <td>0</td>\n",
       "      <td>0</td>\n",
       "      <td>0</td>\n",
       "      <td>0</td>\n",
       "      <td>0</td>\n",
       "    </tr>\n",
       "  </tbody>\n",
       "</table>\n",
       "<p>5 rows × 785 columns</p>\n",
       "</div>"
      ],
      "text/plain": [
       "   label  pixel0  pixel1  pixel2  pixel3  pixel4  pixel5  pixel6  pixel7  \\\n",
       "0      1       0       0       0       0       0       0       0       0   \n",
       "1      0       0       0       0       0       0       0       0       0   \n",
       "2      1       0       0       0       0       0       0       0       0   \n",
       "3      4       0       0       0       0       0       0       0       0   \n",
       "4      0       0       0       0       0       0       0       0       0   \n",
       "\n",
       "   pixel8  ...  pixel774  pixel775  pixel776  pixel777  pixel778  pixel779  \\\n",
       "0       0  ...         0         0         0         0         0         0   \n",
       "1       0  ...         0         0         0         0         0         0   \n",
       "2       0  ...         0         0         0         0         0         0   \n",
       "3       0  ...         0         0         0         0         0         0   \n",
       "4       0  ...         0         0         0         0         0         0   \n",
       "\n",
       "   pixel780  pixel781  pixel782  pixel783  \n",
       "0         0         0         0         0  \n",
       "1         0         0         0         0  \n",
       "2         0         0         0         0  \n",
       "3         0         0         0         0  \n",
       "4         0         0         0         0  \n",
       "\n",
       "[5 rows x 785 columns]"
      ]
     },
     "execution_count": 9,
     "metadata": {},
     "output_type": "execute_result"
    }
   ],
   "source": [
    "digits_df.head( 5 )"
   ]
  },
  {
   "cell_type": "markdown",
   "metadata": {},
   "source": [
    "### Create a Directory and Extract all images"
   ]
  },
  {
   "cell_type": "code",
   "execution_count": 10,
   "metadata": {},
   "outputs": [],
   "source": [
    "import os"
   ]
  },
  {
   "cell_type": "code",
   "execution_count": 11,
   "metadata": {},
   "outputs": [],
   "source": [
    "image_dir = './mnist/'\n",
    "\n",
    "if not os.path.exists(image_dir):\n",
    "    os.makedirs(image_dir)"
   ]
  },
  {
   "cell_type": "markdown",
   "metadata": {},
   "source": [
    "### For reading into numpy arrays"
   ]
  },
  {
   "cell_type": "code",
   "execution_count": 27,
   "metadata": {},
   "outputs": [],
   "source": [
    "labels = digits_df.iloc[0:,0].astype(np.int32)\n",
    "image_buffer = digits_df.iloc[0:,1:].values\n",
    "labels_np = np.array( labels )"
   ]
  },
  {
   "cell_type": "code",
   "execution_count": 28,
   "metadata": {},
   "outputs": [
    {
     "data": {
      "text/plain": [
       "array([1, 0, 1, 4, 0], dtype=int32)"
      ]
     },
     "execution_count": 28,
     "metadata": {},
     "output_type": "execute_result"
    }
   ],
   "source": [
    "labels_np[0:5]"
   ]
  },
  {
   "cell_type": "code",
   "execution_count": 29,
   "metadata": {},
   "outputs": [
    {
     "data": {
      "text/plain": [
       "array([[0, 0, 0, ..., 0, 0, 0],\n",
       "       [0, 0, 0, ..., 0, 0, 0],\n",
       "       [0, 0, 0, ..., 0, 0, 0],\n",
       "       [0, 0, 0, ..., 0, 0, 0],\n",
       "       [0, 0, 0, ..., 0, 0, 0]])"
      ]
     },
     "execution_count": 29,
     "metadata": {},
     "output_type": "execute_result"
    }
   ],
   "source": [
    "image_buffer[0:5]"
   ]
  },
  {
   "cell_type": "code",
   "execution_count": 30,
   "metadata": {},
   "outputs": [
    {
     "data": {
      "text/plain": [
       "(42000, 784)"
      ]
     },
     "execution_count": 30,
     "metadata": {},
     "output_type": "execute_result"
    }
   ],
   "source": [
    "image_buffer.shape"
   ]
  },
  {
   "cell_type": "code",
   "execution_count": 31,
   "metadata": {},
   "outputs": [],
   "source": [
    "dataset = zip(labels, image_buffer)"
   ]
  },
  {
   "cell_type": "markdown",
   "metadata": {},
   "source": [
    "The images are 28 x 28 pixel images"
   ]
  },
  {
   "cell_type": "markdown",
   "metadata": {},
   "source": [
    "### Verifying images"
   ]
  },
  {
   "cell_type": "code",
   "execution_count": 32,
   "metadata": {},
   "outputs": [],
   "source": [
    "def print_image( idx ):\n",
    "    plt.imshow( image_buffer[idx].reshape(28, 28));\n",
    "    print( labels_np[idx] )"
   ]
  },
  {
   "cell_type": "code",
   "execution_count": 33,
   "metadata": {},
   "outputs": [
    {
     "name": "stdout",
     "output_type": "stream",
     "text": [
      "8\n"
     ]
    },
    {
     "data": {
      "image/png": "[encoded data removed]",
      "text/plain": [
       "<Figure size 432x288 with 1 Axes>"
      ]
     },
     "metadata": {
      "needs_background": "light"
     },
     "output_type": "display_data"
    }
   ],
   "source": [
    "print_image( 10 )"
   ]
  },
  {
   "cell_type": "markdown",
   "metadata": {},
   "source": [
    "### How images actually look like?"
   ]
  },
  {
   "cell_type": "code",
   "execution_count": 34,
   "metadata": {},
   "outputs": [],
   "source": [
    "np.set_printoptions(precision=4, linewidth=120)"
   ]
  },
  {
   "cell_type": "code",
   "execution_count": 35,
   "metadata": {},
   "outputs": [
    {
     "data": {
      "text/plain": [
       "array([[  0,   0,   0,   0,   0,   0,   0,   0,   0,   0,   0,   0,   0,   0,   0,   0,   0,   0,   0,   0],\n",
       "       [  0,   0,   0,   0,   0,   0,   0,   7,  24,  24,  97, 253, 253, 253, 253, 255, 180,  48,   0,   0],\n",
       "       [  0,   0,   0,   0,   0,   0,  30, 186, 252, 252, 253, 252, 252, 252, 252, 253, 252, 227,  29,   0],\n",
       "       [  0,   0,   0,   0,   0,  38, 155, 252, 252, 252, 253, 252, 252, 227,  79, 222, 252, 252, 129,   0],\n",
       "       [  0,   0,   0,   0,  85, 233, 252, 252, 252, 252, 253, 252, 252, 202,  11, 180, 252, 252, 119,   0],\n",
       "       [  0,   0,   0,  43, 240, 253, 252, 252, 252, 252, 253, 252, 252, 244, 126, 201, 252, 252, 150,   0],\n",
       "       [  0,   0,   7, 212, 253, 255, 253, 253, 253, 232, 221,  42,   0, 104, 253, 255, 253, 205,  21,   0],\n",
       "       [  0,   0,  25, 223, 252, 253, 252, 252, 214,  18,   0,   0,  34, 215, 252, 253, 223,  56,   0,   0],\n",
       "       [  0,   0,   0,  99, 246, 253, 252, 252,  77,   0,   7,  70, 203, 252, 252, 173,  25,   0,   0,   0],\n",
       "       [  0,   0,   0,   0,  42, 253, 252, 252, 236, 103, 160, 252, 252, 218, 108,   0,   0,   0,   0,   0],\n",
       "       [  0,   0,   0,   0,   0, 148, 252, 252, 252, 252, 253, 231, 106,  14,   0,   0,   0,   0,   0,   0],\n",
       "       [  0,   0,   0,   0,   0,  24, 253, 253, 253, 253, 255, 159,   7,   0,   0,   0,   0,   0,   0,   0],\n",
       "       [  0,   0,   0,   0,  43, 118, 252, 240, 244, 252, 253, 231,  37,   0,   0,   0,   0,   0,   0,   0],\n",
       "       [  0,   0,  19, 164, 246, 253, 187,  50,  99, 246, 253, 252,  69,   0,   0,   0,   0,   0,   0,   0],\n",
       "       [  0,   0,  80, 232, 252, 203,  58,   0,   0, 135, 253, 252, 121,   0,   0,   0,   0,   0,   0,   0],\n",
       "       [  0,  43, 246, 252, 200,  11,   0,   0,   0, 116, 253, 252,  69,   0,   0,   0,   0,   0,   0,   0],\n",
       "       [  0, 162, 253, 192,  11,   0,   0,   0,   0, 179, 255, 253,  69,   0,   0,   0,   0,   0,   0,   0],\n",
       "       [  5, 178, 252, 119,   0,   5,  47,  47, 140, 244, 253, 252,  69,   0,   0,   0,   0,   0,   0,   0],\n",
       "       [  7, 186, 252, 227, 184, 191, 252, 252, 252, 252, 253, 240,  50,   0,   0,   0,   0,   0,   0,   0],\n",
       "       [ 11, 144, 227, 252, 252, 253, 252, 252, 252, 252,  98,  37,   0,   0,   0,   0,   0,   0,   0,   0],\n",
       "       [  0,   0,  48, 137, 242, 253, 231, 137, 137,  32,   0,   0,   0,   0,   0,   0,   0,   0,   0,   0],\n",
       "       [  0,   0,   0,   0,   0,   0,   0,   0,   0,   0,   0,   0,   0,   0,   0,   0,   0,   0,   0,   0],\n",
       "       [  0,   0,   0,   0,   0,   0,   0,   0,   0,   0,   0,   0,   0,   0,   0,   0,   0,   0,   0,   0]])"
      ]
     },
     "execution_count": 35,
     "metadata": {},
     "output_type": "execute_result"
    }
   ],
   "source": [
    "image_buffer[10].reshape(28, 28)[5:28, 5:25]"
   ]
  },
  {
   "cell_type": "markdown",
   "metadata": {},
   "source": [
    "### Checking shape of the image file"
   ]
  },
  {
   "cell_type": "code",
   "execution_count": 36,
   "metadata": {},
   "outputs": [
    {
     "data": {
      "text/plain": [
       "(784,)"
      ]
     },
     "execution_count": 36,
     "metadata": {},
     "output_type": "execute_result"
    }
   ],
   "source": [
    "image_buffer[0].shape"
   ]
  },
  {
   "cell_type": "markdown",
   "metadata": {},
   "source": [
    "### Reshaping all images"
   ]
  },
  {
   "cell_type": "code",
   "execution_count": 37,
   "metadata": {},
   "outputs": [],
   "source": [
    "reshaped_images = np.array([x.reshape( 28, 28) for x in image_buffer])"
   ]
  },
  {
   "cell_type": "code",
   "execution_count": 38,
   "metadata": {},
   "outputs": [
    {
     "data": {
      "text/plain": [
       "(42000, 28, 28)"
      ]
     },
     "execution_count": 38,
     "metadata": {},
     "output_type": "execute_result"
    }
   ],
   "source": [
    "reshaped_images.shape"
   ]
  },
  {
   "cell_type": "code",
   "execution_count": 39,
   "metadata": {},
   "outputs": [
    {
     "data": {
      "image/png": "[encoded data removed]",
      "text/plain": [
       "<Figure size 432x288 with 1 Axes>"
      ]
     },
     "metadata": {
      "needs_background": "light"
     },
     "output_type": "display_data"
    }
   ],
   "source": [
    "plt.imshow(reshaped_images[0]);"
   ]
  },
  {
   "cell_type": "markdown",
   "metadata": {},
   "source": [
    "## Classifying Digits"
   ]
  },
  {
   "cell_type": "markdown",
   "metadata": {},
   "source": [
    "### Importing all required libraries"
   ]
  },
  {
   "cell_type": "code",
   "execution_count": 107,
   "metadata": {},
   "outputs": [],
   "source": [
    "import tensorflow as tf\n",
    "from tensorflow import keras"
   ]
  },
  {
   "cell_type": "code",
   "execution_count": 43,
   "metadata": {},
   "outputs": [
    {
     "name": "stdout",
     "output_type": "stream",
     "text": [
      "2.3.0\n",
      "2.4.0\n"
     ]
    }
   ],
   "source": [
    "print(tf.__version__)\n",
    "print(keras.__version__)"
   ]
  },
  {
   "cell_type": "markdown",
   "metadata": {},
   "source": [
    "### Set X and Y"
   ]
  },
  {
   "cell_type": "code",
   "execution_count": 44,
   "metadata": {},
   "outputs": [],
   "source": [
    "X = reshaped_images"
   ]
  },
  {
   "cell_type": "code",
   "execution_count": 45,
   "metadata": {},
   "outputs": [],
   "source": [
    "y = keras.utils.to_categorical( labels_np )"
   ]
  },
  {
   "cell_type": "code",
   "execution_count": 46,
   "metadata": {},
   "outputs": [
    {
     "data": {
      "text/plain": [
       "array([[0., 1., 0., ..., 0., 0., 0.],\n",
       "       [1., 0., 0., ..., 0., 0., 0.],\n",
       "       [0., 1., 0., ..., 0., 0., 0.],\n",
       "       ...,\n",
       "       [0., 0., 0., ..., 1., 0., 0.],\n",
       "       [0., 0., 0., ..., 0., 0., 0.],\n",
       "       [0., 0., 0., ..., 0., 0., 1.]], dtype=float32)"
      ]
     },
     "execution_count": 46,
     "metadata": {},
     "output_type": "execute_result"
    }
   ],
   "source": [
    "y"
   ]
  },
  {
   "cell_type": "markdown",
   "metadata": {},
   "source": [
    "### Splitting datasets into train and test"
   ]
  },
  {
   "cell_type": "code",
   "execution_count": 47,
   "metadata": {},
   "outputs": [],
   "source": [
    "from sklearn.model_selection import train_test_split"
   ]
  },
  {
   "cell_type": "code",
   "execution_count": 48,
   "metadata": {},
   "outputs": [],
   "source": [
    "X_train, X_test, y_train, y_test = train_test_split( X, \n",
    "                                                     y,\n",
    "                                                     test_size = 0.2,\n",
    "                                                     random_state = 42 )"
   ]
  },
  {
   "cell_type": "code",
   "execution_count": 49,
   "metadata": {},
   "outputs": [
    {
     "data": {
      "text/plain": [
       "(33600, 28, 28)"
      ]
     },
     "execution_count": 49,
     "metadata": {},
     "output_type": "execute_result"
    }
   ],
   "source": [
    "X_train.shape"
   ]
  },
  {
   "cell_type": "code",
   "execution_count": 50,
   "metadata": {},
   "outputs": [
    {
     "data": {
      "text/plain": [
       "(8400, 28, 28)"
      ]
     },
     "execution_count": 50,
     "metadata": {},
     "output_type": "execute_result"
    }
   ],
   "source": [
    "X_test.shape"
   ]
  },
  {
   "cell_type": "code",
   "execution_count": 51,
   "metadata": {},
   "outputs": [
    {
     "data": {
      "text/plain": [
       "(33600, 10)"
      ]
     },
     "execution_count": 51,
     "metadata": {},
     "output_type": "execute_result"
    }
   ],
   "source": [
    "y_train.shape"
   ]
  },
  {
   "cell_type": "code",
   "execution_count": 52,
   "metadata": {},
   "outputs": [
    {
     "data": {
      "text/plain": [
       "(8400, 10)"
      ]
     },
     "execution_count": 52,
     "metadata": {},
     "output_type": "execute_result"
    }
   ],
   "source": [
    "y_test.shape"
   ]
  },
  {
   "cell_type": "code",
   "execution_count": 53,
   "metadata": {},
   "outputs": [],
   "source": [
    "input_shape = X_train.shape[-2:]"
   ]
  },
  {
   "cell_type": "code",
   "execution_count": 54,
   "metadata": {},
   "outputs": [
    {
     "name": "stdout",
     "output_type": "stream",
     "text": [
      "(28, 28)\n"
     ]
    }
   ],
   "source": [
    "print(input_shape)"
   ]
  },
  {
   "cell_type": "markdown",
   "metadata": {},
   "source": [
    "### Train a model"
   ]
  },
  {
   "cell_type": "code",
   "execution_count": 55,
   "metadata": {},
   "outputs": [],
   "source": [
    "# import necessary building blocks\n",
    "from tensorflow.keras.models import Sequential\n",
    "from tensorflow.keras.layers import Flatten, Dense, Activation"
   ]
  },
  {
   "cell_type": "markdown",
   "metadata": {},
   "source": [
    "### Neural Networks Architecture \n",
    "\n",
    "- Layer\n",
    "- Neurons\n",
    "- Activation"
   ]
  },
  {
   "cell_type": "code",
   "execution_count": 56,
   "metadata": {},
   "outputs": [],
   "source": [
    "model = Sequential()\n",
    "\n",
    "model.add(Dense(64, input_shape=input_shape))\n",
    "# An \"activation\" is just a non-linear function applied to the output\n",
    "# of the layer above. Here, with a \"rectified linear unit\",\n",
    "# we clamp all values below 0 to 0.\n",
    "model.add(Flatten())\n",
    "\n",
    "model.add(Activation('relu'))\n",
    "\n",
    "model.add(Dense(32))\n",
    "model.add(Activation('relu'))\n",
    "\n",
    "model.add(Dense(16))\n",
    "model.add(Activation('relu'))\n",
    "\n",
    "model.add(Dense(10))\n",
    "# This special \"softmax\" activation among other things,\n",
    "# ensures the output is a valid probaility distribution, that is\n",
    "# that its values are all non-negative and sum to 1.\n",
    "model.add(Activation('softmax'))"
   ]
  },
  {
   "cell_type": "markdown",
   "metadata": {},
   "source": [
    "### Explain number of parameters need to be trainined\n",
    "\n",
    "- All the links (compute)"
   ]
  },
  {
   "cell_type": "code",
   "execution_count": 57,
   "metadata": {},
   "outputs": [
    {
     "name": "stdout",
     "output_type": "stream",
     "text": [
      "Model: \"sequential\"\n",
      "_________________________________________________________________\n",
      "Layer (type)                 Output Shape              Param #   \n",
      "=================================================================\n",
      "dense (Dense)                (None, 28, 64)            1856      \n",
      "_________________________________________________________________\n",
      "flatten (Flatten)            (None, 1792)              0         \n",
      "_________________________________________________________________\n",
      "activation (Activation)      (None, 1792)              0         \n",
      "_________________________________________________________________\n",
      "dense_1 (Dense)              (None, 32)                57376     \n",
      "_________________________________________________________________\n",
      "activation_1 (Activation)    (None, 32)                0         \n",
      "_________________________________________________________________\n",
      "dense_2 (Dense)              (None, 16)                528       \n",
      "_________________________________________________________________\n",
      "activation_2 (Activation)    (None, 16)                0         \n",
      "_________________________________________________________________\n",
      "dense_3 (Dense)              (None, 10)                170       \n",
      "_________________________________________________________________\n",
      "activation_3 (Activation)    (None, 10)                0         \n",
      "=================================================================\n",
      "Total params: 59,930\n",
      "Trainable params: 59,930\n",
      "Non-trainable params: 0\n",
      "_________________________________________________________________\n"
     ]
    }
   ],
   "source": [
    "model.summary()"
   ]
  },
  {
   "cell_type": "markdown",
   "metadata": {},
   "source": [
    "### Loss Function"
   ]
  },
  {
   "cell_type": "markdown",
   "metadata": {},
   "source": [
    "### Gradient Descent\n",
    "\n",
    "- Learning Rate\n",
    "- Optimizers"
   ]
  },
  {
   "cell_type": "code",
   "execution_count": 58,
   "metadata": {},
   "outputs": [],
   "source": [
    "model.compile(loss='categorical_crossentropy', \n",
    "              optimizer='adam', \n",
    "              metrics=['accuracy'])"
   ]
  },
  {
   "cell_type": "markdown",
   "metadata": {},
   "source": [
    "### Training Model\n",
    "\n",
    "- Epochs\n",
    "- Batch Size"
   ]
  },
  {
   "cell_type": "code",
   "execution_count": 59,
   "metadata": {},
   "outputs": [],
   "source": [
    "EPOCHS = 10\n",
    "BATCH_SIZE = 128"
   ]
  },
  {
   "cell_type": "code",
   "execution_count": 60,
   "metadata": {},
   "outputs": [
    {
     "name": "stdout",
     "output_type": "stream",
     "text": [
      "Epoch 1/10\n",
      "184/184 [==============================] - 1s 3ms/step - loss: 2.4574 - accuracy: 0.4017 - val_loss: 1.3173 - val_accuracy: 0.5684\n",
      "Epoch 2/10\n",
      "184/184 [==============================] - 0s 3ms/step - loss: 1.1197 - accuracy: 0.6622 - val_loss: 0.9968 - val_accuracy: 0.7526\n",
      "Epoch 3/10\n",
      "184/184 [==============================] - 0s 2ms/step - loss: 0.8351 - accuracy: 0.7750 - val_loss: 0.7379 - val_accuracy: 0.8084\n",
      "Epoch 4/10\n",
      "184/184 [==============================] - 0s 2ms/step - loss: 0.5973 - accuracy: 0.8355 - val_loss: 0.6108 - val_accuracy: 0.8451\n",
      "Epoch 5/10\n",
      "184/184 [==============================] - 0s 2ms/step - loss: 0.4392 - accuracy: 0.8797 - val_loss: 0.4942 - val_accuracy: 0.8787\n",
      "Epoch 6/10\n",
      "184/184 [==============================] - 0s 2ms/step - loss: 0.3533 - accuracy: 0.9016 - val_loss: 0.4522 - val_accuracy: 0.8979\n",
      "Epoch 7/10\n",
      "184/184 [==============================] - 0s 2ms/step - loss: 0.2904 - accuracy: 0.9198 - val_loss: 0.3612 - val_accuracy: 0.9151\n",
      "Epoch 8/10\n",
      "184/184 [==============================] - 0s 3ms/step - loss: 0.2307 - accuracy: 0.9363 - val_loss: 0.3322 - val_accuracy: 0.9279\n",
      "Epoch 9/10\n",
      "184/184 [==============================] - 0s 2ms/step - loss: 0.1919 - accuracy: 0.9443 - val_loss: 0.3310 - val_accuracy: 0.9280\n",
      "Epoch 10/10\n",
      "184/184 [==============================] - 0s 2ms/step - loss: 0.1683 - accuracy: 0.9533 - val_loss: 0.3266 - val_accuracy: 0.9306\n",
      "CPU times: user 13.4 s, sys: 2.08 s, total: 15.5 s\n",
      "Wall time: 5.11 s\n"
     ]
    }
   ],
   "source": [
    "%%time \n",
    "# fit model\n",
    "history = model.fit(\n",
    "    X_train, \n",
    "    y_train,  # prepared data\n",
    "    batch_size = BATCH_SIZE,\n",
    "    epochs = EPOCHS,\n",
    "    validation_split = 0.3,\n",
    "    shuffle = True,\n",
    "    verbose=1,\n",
    ")"
   ]
  },
  {
   "cell_type": "code",
   "execution_count": 67,
   "metadata": {},
   "outputs": [
    {
     "data": {
      "text/plain": [
       "{'loss': [2.457425594329834,\n",
       "  1.1196887493133545,\n",
       "  0.8351055979728699,\n",
       "  0.5973169207572937,\n",
       "  0.4392152428627014,\n",
       "  0.35333800315856934,\n",
       "  0.2903845012187958,\n",
       "  0.2307083010673523,\n",
       "  0.19185228645801544,\n",
       "  0.168294295668602],\n",
       " 'accuracy': [0.40174320340156555,\n",
       "  0.6622449159622192,\n",
       "  0.7749574780464172,\n",
       "  0.8355017304420471,\n",
       "  0.8797193765640259,\n",
       "  0.901573121547699,\n",
       "  0.9198129177093506,\n",
       "  0.9362670183181763,\n",
       "  0.9443027377128601,\n",
       "  0.953316330909729],\n",
       " 'val_loss': [1.3173024654388428,\n",
       "  0.9967668056488037,\n",
       "  0.7378917932510376,\n",
       "  0.6107873916625977,\n",
       "  0.4942452609539032,\n",
       "  0.4521583616733551,\n",
       "  0.36118271946907043,\n",
       "  0.33215248584747314,\n",
       "  0.3310241103172302,\n",
       "  0.3266308307647705],\n",
       " 'val_accuracy': [0.5683531761169434,\n",
       "  0.752579391002655,\n",
       "  0.8084325194358826,\n",
       "  0.8451389074325562,\n",
       "  0.8786706328392029,\n",
       "  0.8979166746139526,\n",
       "  0.9150793552398682,\n",
       "  0.9278770089149475,\n",
       "  0.9279761910438538,\n",
       "  0.9305555820465088]}"
      ]
     },
     "execution_count": 67,
     "metadata": {},
     "output_type": "execute_result"
    }
   ],
   "source": [
    "history.history"
   ]
  },
  {
   "cell_type": "code",
   "execution_count": 115,
   "metadata": {},
   "outputs": [],
   "source": [
    "# summarize history for accuracy\n",
    "\n",
    "def plot_train_val_accuracy(hist):\n",
    "    plt.plot(hist['accuracy'])\n",
    "    plt.plot(hist['val_accuracy'])\n",
    "    plt.title('model accuracy')\n",
    "    plt.ylabel('accuracy')\n",
    "    plt.xlabel('epoch')\n",
    "    plt.legend(['train', 'test'], loc='upper left')\n",
    "    plt.show()"
   ]
  },
  {
   "cell_type": "code",
   "execution_count": 116,
   "metadata": {},
   "outputs": [],
   "source": [
    "# summarize history for loss\n",
    "\n",
    "def plot_train_val_loss(hist):\n",
    "    plt.plot(hist['loss'])\n",
    "    plt.plot(hist['val_loss'])\n",
    "    plt.title('model loss')\n",
    "    plt.ylabel('loss')\n",
    "    plt.xlabel('epoch')\n",
    "    plt.legend(['train', 'test'], loc='upper left')\n",
    "    plt.show()"
   ]
  },
  {
   "cell_type": "code",
   "execution_count": 70,
   "metadata": {},
   "outputs": [
    {
     "data": {
      "image/png": "[encoded data removed]",
      "text/plain": [
       "<Figure size 432x288 with 1 Axes>"
      ]
     },
     "metadata": {
      "needs_background": "light"
     },
     "output_type": "display_data"
    }
   ],
   "source": [
    "plot_train_val_accuracy(history.history)"
   ]
  },
  {
   "cell_type": "code",
   "execution_count": 71,
   "metadata": {},
   "outputs": [
    {
     "data": {
      "image/png": "[encoded data removed]",
      "text/plain": [
       "<Figure size 432x288 with 1 Axes>"
      ]
     },
     "metadata": {
      "needs_background": "light"
     },
     "output_type": "display_data"
    }
   ],
   "source": [
    "plot_train_val_loss(history.history)"
   ]
  },
  {
   "cell_type": "markdown",
   "metadata": {},
   "source": [
    "### Predict and Evaluate"
   ]
  },
  {
   "cell_type": "code",
   "execution_count": 72,
   "metadata": {},
   "outputs": [
    {
     "name": "stdout",
     "output_type": "stream",
     "text": [
      "263/263 [==============================] - 0s 920us/step - loss: 0.3028 - accuracy: 0.9276\n",
      "\n",
      "Test accuracy:  0.9276190400123596\n"
     ]
    }
   ],
   "source": [
    "score = model.evaluate(X_test, y_test)\n",
    "print()\n",
    "print('Test accuracy: ', score[1])"
   ]
  },
  {
   "cell_type": "code",
   "execution_count": 73,
   "metadata": {},
   "outputs": [
    {
     "name": "stdout",
     "output_type": "stream",
     "text": [
      "WARNING:tensorflow:From <ipython-input-73-382f922fb8fd>:1: Sequential.predict_classes (from tensorflow.python.keras.engine.sequential) is deprecated and will be removed after 2021-01-01.\n",
      "Instructions for updating:\n",
      "Please use instead:* `np.argmax(model.predict(x), axis=-1)`,   if your model does multi-class classification   (e.g. if it uses a `softmax` last-layer activation).* `(model.predict(x) > 0.5).astype(\"int32\")`,   if your model does binary classification   (e.g. if it uses a `sigmoid` last-layer activation).\n"
     ]
    }
   ],
   "source": [
    "predictions = model.predict_classes(X_test)\n",
    "\n",
    "predictions = list(predictions)"
   ]
  },
  {
   "cell_type": "markdown",
   "metadata": {},
   "source": [
    "### Verifying Predictions"
   ]
  },
  {
   "cell_type": "code",
   "execution_count": 74,
   "metadata": {},
   "outputs": [
    {
     "data": {
      "text/plain": [
       "<matplotlib.image.AxesImage at 0x1632c8370>"
      ]
     },
     "execution_count": 74,
     "metadata": {},
     "output_type": "execute_result"
    },
    {
     "data": {
      "image/png": "[encoded data removed]",
      "text/plain": [
       "<Figure size 432x288 with 1 Axes>"
      ]
     },
     "metadata": {
      "needs_background": "light"
     },
     "output_type": "display_data"
    }
   ],
   "source": [
    "plt.imshow(X_test[0])"
   ]
  },
  {
   "cell_type": "code",
   "execution_count": 75,
   "metadata": {},
   "outputs": [
    {
     "data": {
      "text/plain": [
       "8"
      ]
     },
     "execution_count": 75,
     "metadata": {},
     "output_type": "execute_result"
    }
   ],
   "source": [
    "predictions[0]"
   ]
  },
  {
   "cell_type": "code",
   "execution_count": 76,
   "metadata": {},
   "outputs": [
    {
     "data": {
      "text/plain": [
       "8400"
      ]
     },
     "execution_count": 76,
     "metadata": {},
     "output_type": "execute_result"
    }
   ],
   "source": [
    "len(X_test)"
   ]
  },
  {
   "cell_type": "markdown",
   "metadata": {},
   "source": [
    "### Randomly show a set of images and predictions"
   ]
  },
  {
   "cell_type": "code",
   "execution_count": 77,
   "metadata": {},
   "outputs": [],
   "source": [
    "import random \n",
    "\n",
    "all_indexes = list(range(len(X_test)))\n",
    "test_indexes = random.sample( all_indexes, 15 )"
   ]
  },
  {
   "cell_type": "code",
   "execution_count": 78,
   "metadata": {},
   "outputs": [
    {
     "data": {
      "image/png": "[encoded data removed]",
      "text/plain": [
       "<Figure size 1080x432 with 15 Axes>"
      ]
     },
     "metadata": {
      "needs_background": "light"
     },
     "output_type": "display_data"
    }
   ],
   "source": [
    "k = 1\n",
    "plt.figure( figsize=(15, 6))\n",
    "for i in test_indexes:\n",
    "    plt.subplot(1, 15, k);\n",
    "    plt.imshow(X_test[i])\n",
    "    plt.title(str(predictions[i]))\n",
    "    k = k + 1\n",
    "plt.show()"
   ]
  },
  {
   "cell_type": "markdown",
   "metadata": {},
   "source": [
    "### Confusion Matrix"
   ]
  },
  {
   "cell_type": "code",
   "execution_count": 79,
   "metadata": {},
   "outputs": [],
   "source": [
    "np_label_list = list(np.unique(labels_np))"
   ]
  },
  {
   "cell_type": "code",
   "execution_count": 80,
   "metadata": {},
   "outputs": [],
   "source": [
    "from sklearn.metrics import confusion_matrix"
   ]
  },
  {
   "cell_type": "code",
   "execution_count": 81,
   "metadata": {},
   "outputs": [],
   "source": [
    "y_pred_classes = model.predict_classes(X_test)"
   ]
  },
  {
   "cell_type": "code",
   "execution_count": 82,
   "metadata": {},
   "outputs": [],
   "source": [
    "y_actual_classes = np.argmax(y_test, axis=1)"
   ]
  },
  {
   "cell_type": "code",
   "execution_count": 83,
   "metadata": {},
   "outputs": [
    {
     "data": {
      "text/plain": [
       "array([8, 1, 9, ..., 3, 0, 9])"
      ]
     },
     "execution_count": 83,
     "metadata": {},
     "output_type": "execute_result"
    }
   ],
   "source": [
    "y_pred_classes"
   ]
  },
  {
   "cell_type": "code",
   "execution_count": 84,
   "metadata": {},
   "outputs": [
    {
     "data": {
      "text/plain": [
       "array([8, 1, 9, ..., 3, 0, 9])"
      ]
     },
     "execution_count": 84,
     "metadata": {},
     "output_type": "execute_result"
    }
   ],
   "source": [
    "y_actual_classes"
   ]
  },
  {
   "cell_type": "code",
   "execution_count": 85,
   "metadata": {},
   "outputs": [
    {
     "data": {
      "text/plain": [
       "array([[792,   0,   9,   3,   3,  17,  17,   4,   8,   2],\n",
       "       [  0, 890,  19,   1,   0,   1,   2,   5,   5,   2],\n",
       "       [  0,   4, 753,  14,   0,   3,   3,   8,   3,   3],\n",
       "       [  1,   1,  14, 849,   1,   8,   1,   2,   7,   6],\n",
       "       [  0,   2,   3,   0, 769,   0,   0,   2,   1,  14],\n",
       "       [  5,   2,   9,  29,   3, 640,   2,   8,  15,  11],\n",
       "       [ 15,   1,   9,   1,  14,  13, 756,   0,   4,   0],\n",
       "       [  1,   1,   7,   5,   4,   3,   0, 812,   3,  30],\n",
       "       [  2,   8,  22,  22,   4,  15,   4,  10, 785,  24],\n",
       "       [  0,   0,   1,  13,  41,   2,   0,  42,   4, 746]])"
      ]
     },
     "execution_count": 85,
     "metadata": {},
     "output_type": "execute_result"
    }
   ],
   "source": [
    "confusion_matrix(y_pred_classes, y_actual_classes)"
   ]
  },
  {
   "cell_type": "code",
   "execution_count": 86,
   "metadata": {},
   "outputs": [],
   "source": [
    "import seaborn as sn"
   ]
  },
  {
   "cell_type": "code",
   "execution_count": 87,
   "metadata": {},
   "outputs": [],
   "source": [
    "def plot_confustion_matrix(y_test, y_pred):\n",
    "    plt.figure(figsize=(7, 6))\n",
    "    plt.title('Confusion matrix', fontsize=16)\n",
    "    cm = confusion_matrix(y_test, y_pred, np_label_list)\n",
    "    sn.heatmap(cm, annot=True,  fmt='.2f', \n",
    "               xticklabels = np_label_list, \n",
    "               yticklabels = np_label_list )\n",
    "    plt.ylabel('True label')\n",
    "    plt.xlabel('Predicted label')\n",
    "    plt.show()\n",
    "    plt.show()"
   ]
  },
  {
   "cell_type": "code",
   "execution_count": 88,
   "metadata": {},
   "outputs": [
    {
     "name": "stderr",
     "output_type": "stream",
     "text": [
      "/opt/anaconda3/envs/trainingnew/lib/python3.8/site-packages/sklearn/utils/validation.py:68: FutureWarning: Pass labels=[0, 1, 2, 3, 4, 5, 6, 7, 8, 9] as keyword args. From version 0.25 passing these as positional arguments will result in an error\n",
      "  warnings.warn(\"Pass {} as keyword args. From version 0.25 \"\n"
     ]
    },
    {
     "data": {
      "image/png": "[encoded data removed]",
      "text/plain": [
       "<Figure size 504x432 with 2 Axes>"
      ]
     },
     "metadata": {
      "needs_background": "light"
     },
     "output_type": "display_data"
    }
   ],
   "source": [
    "plot_confustion_matrix(y_pred_classes, y_actual_classes)"
   ]
  },
  {
   "cell_type": "markdown",
   "metadata": {
    "collapsed": true
   },
   "source": [
    "### Exercise: Build a deeper model\n",
    "\n",
    "- Add one more layers with 128 neurons"
   ]
  },
  {
   "cell_type": "markdown",
   "metadata": {},
   "source": [
    "# Convolution Neural Networks (CNN)\n",
    "## What is Convolution?\n",
    "\n",
    "- Filter\n",
    "- Kernel Size"
   ]
  },
  {
   "cell_type": "code",
   "execution_count": 89,
   "metadata": {},
   "outputs": [
    {
     "data": {
      "image/png": "[encoded data removed]",
      "text/plain": [
       "<Figure size 432x288 with 1 Axes>"
      ]
     },
     "metadata": {
      "needs_background": "light"
     },
     "output_type": "display_data"
    }
   ],
   "source": [
    "plt.grid(False)\n",
    "plt.imshow( image_buffer[10].reshape(28, 28));"
   ]
  },
  {
   "cell_type": "code",
   "execution_count": 90,
   "metadata": {},
   "outputs": [
    {
     "data": {
      "image/png": "[encoded data removed]",
      "text/plain": [
       "<Figure size 432x288 with 1 Axes>"
      ]
     },
     "metadata": {
      "needs_background": "light"
     },
     "output_type": "display_data"
    }
   ],
   "source": [
    "top=[[ 1, 1, 1],\n",
    "     [ 0, 0, 0],     \n",
    "     [ -1, -1, -1]]\n",
    "plt.grid(False)\n",
    "plt.imshow(top);"
   ]
  },
  {
   "cell_type": "code",
   "execution_count": 91,
   "metadata": {},
   "outputs": [],
   "source": [
    "from scipy.ndimage.filters import correlate, convolve"
   ]
  },
  {
   "cell_type": "code",
   "execution_count": 92,
   "metadata": {},
   "outputs": [
    {
     "data": {
      "image/png": "[encoded data removed]",
      "text/plain": [
       "<Figure size 432x288 with 1 Axes>"
      ]
     },
     "metadata": {
      "needs_background": "light"
     },
     "output_type": "display_data"
    }
   ],
   "source": [
    "convtop = convolve(image_buffer[10].reshape(28, 28), \n",
    "                   top)\n",
    "plt.grid(False)\n",
    "plt.imshow(convtop);"
   ]
  },
  {
   "cell_type": "code",
   "execution_count": 93,
   "metadata": {},
   "outputs": [
    {
     "data": {
      "text/plain": [
       "array([[ 1,  0, -1],\n",
       "       [ 1,  0, -1],\n",
       "       [ 1,  0, -1]])"
      ]
     },
     "execution_count": 93,
     "metadata": {},
     "output_type": "execute_result"
    }
   ],
   "source": [
    "np.rot90(top, 1)"
   ]
  },
  {
   "cell_type": "code",
   "execution_count": 94,
   "metadata": {},
   "outputs": [
    {
     "data": {
      "image/png": "[encoded data removed]",
      "text/plain": [
       "<Figure size 432x288 with 1 Axes>"
      ]
     },
     "metadata": {
      "needs_background": "light"
     },
     "output_type": "display_data"
    }
   ],
   "source": [
    "convtop = convolve(image_buffer[10].reshape(28, 28), \n",
    "                   np.rot90(top, 1))\n",
    "plt.grid(False)\n",
    "plt.imshow(convtop);"
   ]
  },
  {
   "cell_type": "markdown",
   "metadata": {},
   "source": [
    "## CNN Model\n",
    "\n",
    "- Strides\n",
    "- Padding\n",
    "- MaxPooling"
   ]
  },
  {
   "cell_type": "code",
   "execution_count": 98,
   "metadata": {},
   "outputs": [],
   "source": [
    "from tensorflow.keras.layers import Conv2D, MaxPooling2D, Flatten, Dense, Activation, Dropout"
   ]
  },
  {
   "cell_type": "code",
   "execution_count": 99,
   "metadata": {},
   "outputs": [
    {
     "name": "stdout",
     "output_type": "stream",
     "text": [
      "(33600, 28, 28)\n"
     ]
    }
   ],
   "source": [
    "X_train_shape = X_train.shape\n",
    "print(X_train_shape)"
   ]
  },
  {
   "cell_type": "code",
   "execution_count": 100,
   "metadata": {},
   "outputs": [
    {
     "name": "stdout",
     "output_type": "stream",
     "text": [
      "(8400, 28, 28)\n"
     ]
    }
   ],
   "source": [
    "X_test_shape = X_test.shape\n",
    "print(X_test_shape)"
   ]
  },
  {
   "cell_type": "code",
   "execution_count": 101,
   "metadata": {},
   "outputs": [],
   "source": [
    "X_train_reshaped = X_train.reshape(X_train_shape[0],\n",
    "                                   X_train_shape[1],\n",
    "                                   X_train_shape[2], 1)\n",
    "\n",
    "X_test_reshaped = X_test.reshape(X_test_shape[0],\n",
    "                                 X_test_shape[1],\n",
    "                                 X_test_shape[2], 1)"
   ]
  },
  {
   "cell_type": "code",
   "execution_count": 102,
   "metadata": {},
   "outputs": [],
   "source": [
    "new_input_shape = (X_train_shape[1],X_train_shape[2], 1)"
   ]
  },
  {
   "cell_type": "code",
   "execution_count": 103,
   "metadata": {},
   "outputs": [
    {
     "data": {
      "text/plain": [
       "(28, 28, 1)"
      ]
     },
     "execution_count": 103,
     "metadata": {},
     "output_type": "execute_result"
    }
   ],
   "source": [
    "new_input_shape"
   ]
  },
  {
   "cell_type": "markdown",
   "metadata": {},
   "source": [
    "### Model 1 \n",
    "\n",
    "- Conv2D -> Dense(10) -> Softmax"
   ]
  },
  {
   "cell_type": "code",
   "execution_count": 108,
   "metadata": {},
   "outputs": [],
   "source": [
    "tf.keras.backend.clear_session() # clear default graph\n",
    "\n",
    "model = Sequential()\n",
    "model.add(Conv2D(filters=8, kernel_size=(3,3), input_shape=new_input_shape))\n",
    "model.add(Activation('relu'))\n",
    "                            \n",
    "model.add(MaxPooling2D(pool_size=(2, 2)))\n",
    "\n",
    "model.add(Flatten())\n",
    "    \n",
    "model.add(Dense(10))\n",
    "# This special \"softmax\" activation among other things,\n",
    "# ensures the output is a valid probaility distribution, that is\n",
    "# that its values are all non-negative and sum to 1.\n",
    "model.add(Activation('softmax'))"
   ]
  },
  {
   "cell_type": "code",
   "execution_count": 109,
   "metadata": {},
   "outputs": [
    {
     "name": "stdout",
     "output_type": "stream",
     "text": [
      "Model: \"sequential\"\n",
      "_________________________________________________________________\n",
      "Layer (type)                 Output Shape              Param #   \n",
      "=================================================================\n",
      "conv2d (Conv2D)              (None, 26, 26, 8)         80        \n",
      "_________________________________________________________________\n",
      "activation (Activation)      (None, 26, 26, 8)         0         \n",
      "_________________________________________________________________\n",
      "max_pooling2d (MaxPooling2D) (None, 13, 13, 8)         0         \n",
      "_________________________________________________________________\n",
      "flatten (Flatten)            (None, 1352)              0         \n",
      "_________________________________________________________________\n",
      "dense (Dense)                (None, 10)                13530     \n",
      "_________________________________________________________________\n",
      "activation_1 (Activation)    (None, 10)                0         \n",
      "=================================================================\n",
      "Total params: 13,610\n",
      "Trainable params: 13,610\n",
      "Non-trainable params: 0\n",
      "_________________________________________________________________\n"
     ]
    }
   ],
   "source": [
    "model.summary()"
   ]
  },
  {
   "cell_type": "code",
   "execution_count": 110,
   "metadata": {},
   "outputs": [],
   "source": [
    "model.compile(optimizer='adam',\n",
    "              loss = 'categorical_crossentropy',\n",
    "              metrics = ['accuracy'])"
   ]
  },
  {
   "cell_type": "code",
   "execution_count": 111,
   "metadata": {},
   "outputs": [
    {
     "name": "stdout",
     "output_type": "stream",
     "text": [
      "Epoch 1/10\n",
      "263/263 [==============================] - 2s 8ms/step - loss: 5.6700 - accuracy: 0.8045 - val_loss: 1.2004 - val_accuracy: 0.9012\n",
      "Epoch 2/10\n",
      "263/263 [==============================] - 2s 8ms/step - loss: 0.8092 - accuracy: 0.9226 - val_loss: 0.6330 - val_accuracy: 0.9313\n",
      "Epoch 3/10\n",
      "263/263 [==============================] - 2s 8ms/step - loss: 0.4465 - accuracy: 0.9426 - val_loss: 0.4366 - val_accuracy: 0.9439\n",
      "Epoch 4/10\n",
      "263/263 [==============================] - 2s 8ms/step - loss: 0.2884 - accuracy: 0.9551 - val_loss: 0.3748 - val_accuracy: 0.9485\n",
      "Epoch 5/10\n",
      "263/263 [==============================] - 2s 9ms/step - loss: 0.2179 - accuracy: 0.9609 - val_loss: 0.3001 - val_accuracy: 0.9557\n",
      "Epoch 6/10\n",
      "263/263 [==============================] - 2s 8ms/step - loss: 0.1511 - accuracy: 0.9686 - val_loss: 0.2957 - val_accuracy: 0.9542\n",
      "Epoch 7/10\n",
      "263/263 [==============================] - 2s 9ms/step - loss: 0.1242 - accuracy: 0.9725 - val_loss: 0.2604 - val_accuracy: 0.9579\n",
      "Epoch 8/10\n",
      "263/263 [==============================] - 2s 9ms/step - loss: 0.0997 - accuracy: 0.9750 - val_loss: 0.2472 - val_accuracy: 0.9582\n",
      "Epoch 9/10\n",
      "263/263 [==============================] - 2s 9ms/step - loss: 0.0798 - accuracy: 0.9786 - val_loss: 0.2239 - val_accuracy: 0.9604\n",
      "Epoch 10/10\n",
      "263/263 [==============================] - 2s 9ms/step - loss: 0.0676 - accuracy: 0.9807 - val_loss: 0.2596 - val_accuracy: 0.9555\n",
      "CPU times: user 1min 37s, sys: 5.09 s, total: 1min 42s\n",
      "Wall time: 22.8 s\n"
     ]
    }
   ],
   "source": [
    "%%time\n",
    "\n",
    "history = model.fit(\n",
    "    X_train_reshaped, \n",
    "    y_train,  # prepared data\n",
    "    batch_size=BATCH_SIZE,\n",
    "    epochs=EPOCHS,\n",
    "    validation_data=(X_test_reshaped, y_test),\n",
    "    verbose=1\n",
    ")"
   ]
  },
  {
   "cell_type": "markdown",
   "metadata": {},
   "source": [
    "### Plotting Loss and Accuracy"
   ]
  },
  {
   "cell_type": "code",
   "execution_count": 118,
   "metadata": {},
   "outputs": [
    {
     "data": {
      "image/png": "[encoded data removed]",
      "text/plain": [
       "<Figure size 432x288 with 1 Axes>"
      ]
     },
     "metadata": {
      "needs_background": "light"
     },
     "output_type": "display_data"
    }
   ],
   "source": [
    "plot_train_val_accuracy(history.history)"
   ]
  },
  {
   "cell_type": "code",
   "execution_count": 119,
   "metadata": {},
   "outputs": [
    {
     "data": {
      "image/png": "[encoded data removed]",
      "text/plain": [
       "<Figure size 432x288 with 1 Axes>"
      ]
     },
     "metadata": {
      "needs_background": "light"
     },
     "output_type": "display_data"
    }
   ],
   "source": [
    "plot_train_val_loss(history.history)"
   ]
  },
  {
   "cell_type": "markdown",
   "metadata": {},
   "source": [
    "### Model 2:\n",
    "\n",
    "- Conv2D -> Dense(32) -> Dense(10) -> Softmax"
   ]
  },
  {
   "cell_type": "code",
   "execution_count": 121,
   "metadata": {},
   "outputs": [],
   "source": [
    "tf.keras.backend.clear_session() # clear default graph\n",
    "\n",
    "model2 = Sequential()\n",
    "model2.add(Conv2D(filters=8, kernel_size=(3,3), input_shape=new_input_shape))\n",
    "model2.add(Activation('relu'))\n",
    "                            \n",
    "model2.add(MaxPooling2D(pool_size=(2, 2)))\n",
    "\n",
    "model2.add(Flatten())\n",
    "    \n",
    "model2.add(Dense(32))    \n",
    "model2.add(Activation('relu'))\n",
    "\n",
    "model2.add(Dense(10))\n",
    "# This special \"softmax\" activation among other things,\n",
    "# ensures the output is a valid probaility distribution, that is\n",
    "# that its values are all non-negative and sum to 1.\n",
    "model2.add(Activation('softmax'))"
   ]
  },
  {
   "cell_type": "code",
   "execution_count": 122,
   "metadata": {},
   "outputs": [
    {
     "name": "stdout",
     "output_type": "stream",
     "text": [
      "Model: \"sequential\"\n",
      "_________________________________________________________________\n",
      "Layer (type)                 Output Shape              Param #   \n",
      "=================================================================\n",
      "conv2d (Conv2D)              (None, 26, 26, 8)         80        \n",
      "_________________________________________________________________\n",
      "activation (Activation)      (None, 26, 26, 8)         0         \n",
      "_________________________________________________________________\n",
      "max_pooling2d (MaxPooling2D) (None, 13, 13, 8)         0         \n",
      "_________________________________________________________________\n",
      "flatten (Flatten)            (None, 1352)              0         \n",
      "_________________________________________________________________\n",
      "dense (Dense)                (None, 32)                43296     \n",
      "_________________________________________________________________\n",
      "activation_1 (Activation)    (None, 32)                0         \n",
      "_________________________________________________________________\n",
      "dense_1 (Dense)              (None, 10)                330       \n",
      "_________________________________________________________________\n",
      "activation_2 (Activation)    (None, 10)                0         \n",
      "=================================================================\n",
      "Total params: 43,706\n",
      "Trainable params: 43,706\n",
      "Non-trainable params: 0\n",
      "_________________________________________________________________\n"
     ]
    }
   ],
   "source": [
    "model2.summary()"
   ]
  },
  {
   "cell_type": "code",
   "execution_count": 123,
   "metadata": {},
   "outputs": [],
   "source": [
    "model2.compile(optimizer='adam',\n",
    "              loss = 'categorical_crossentropy',\n",
    "              metrics = ['accuracy'])"
   ]
  },
  {
   "cell_type": "code",
   "execution_count": 124,
   "metadata": {},
   "outputs": [],
   "source": [
    "BATCH_SIZE = 64\n",
    "EPOCHS = 10"
   ]
  },
  {
   "cell_type": "code",
   "execution_count": 125,
   "metadata": {},
   "outputs": [
    {
     "name": "stdout",
     "output_type": "stream",
     "text": [
      "Epoch 1/10\n",
      "525/525 [==============================] - 3s 5ms/step - loss: 1.4375 - accuracy: 0.7036 - val_loss: 0.6557 - val_accuracy: 0.8604\n",
      "Epoch 2/10\n",
      "525/525 [==============================] - 3s 5ms/step - loss: 0.3961 - accuracy: 0.9139 - val_loss: 0.2571 - val_accuracy: 0.9361\n",
      "Epoch 3/10\n",
      "525/525 [==============================] - 3s 5ms/step - loss: 0.1852 - accuracy: 0.9518 - val_loss: 0.1956 - val_accuracy: 0.9506\n",
      "Epoch 4/10\n",
      "525/525 [==============================] - 3s 5ms/step - loss: 0.1223 - accuracy: 0.9654 - val_loss: 0.1574 - val_accuracy: 0.9586\n",
      "Epoch 5/10\n",
      "525/525 [==============================] - 3s 5ms/step - loss: 0.0869 - accuracy: 0.9742 - val_loss: 0.1404 - val_accuracy: 0.9650\n",
      "Epoch 6/10\n",
      "525/525 [==============================] - 3s 5ms/step - loss: 0.0670 - accuracy: 0.9801 - val_loss: 0.1350 - val_accuracy: 0.9671\n",
      "Epoch 7/10\n",
      "525/525 [==============================] - 3s 5ms/step - loss: 0.0555 - accuracy: 0.9824 - val_loss: 0.1208 - val_accuracy: 0.9675\n",
      "Epoch 8/10\n",
      "525/525 [==============================] - 3s 6ms/step - loss: 0.0458 - accuracy: 0.9860 - val_loss: 0.1462 - val_accuracy: 0.9680\n",
      "Epoch 9/10\n",
      "525/525 [==============================] - 3s 5ms/step - loss: 0.0444 - accuracy: 0.9860 - val_loss: 0.1383 - val_accuracy: 0.9692\n",
      "Epoch 10/10\n",
      "525/525 [==============================] - 3s 5ms/step - loss: 0.0378 - accuracy: 0.9873 - val_loss: 0.1328 - val_accuracy: 0.9713\n",
      "CPU times: user 1min 46s, sys: 8.59 s, total: 1min 54s\n",
      "Wall time: 28 s\n"
     ]
    }
   ],
   "source": [
    "%%time\n",
    "\n",
    "history2 = model2.fit(\n",
    "    X_train_reshaped, \n",
    "    y_train,  # prepared data\n",
    "    batch_size=BATCH_SIZE,\n",
    "    epochs=EPOCHS,\n",
    "    validation_data=(X_test_reshaped, y_test),\n",
    "    verbose=1\n",
    ")"
   ]
  },
  {
   "cell_type": "code",
   "execution_count": 127,
   "metadata": {},
   "outputs": [
    {
     "data": {
      "image/png": "[encoded data removed]",
      "text/plain": [
       "<Figure size 432x288 with 1 Axes>"
      ]
     },
     "metadata": {
      "needs_background": "light"
     },
     "output_type": "display_data"
    },
    {
     "data": {
      "image/png": "[encoded data removed]",
      "text/plain": [
       "<Figure size 432x288 with 1 Axes>"
      ]
     },
     "metadata": {
      "needs_background": "light"
     },
     "output_type": "display_data"
    }
   ],
   "source": [
    "plot_train_val_accuracy(history2.history)\n",
    "\n",
    "plot_train_val_loss(history2.history)"
   ]
  },
  {
   "cell_type": "markdown",
   "metadata": {},
   "source": [
    "### Model 3: "
   ]
  },
  {
   "cell_type": "code",
   "execution_count": 129,
   "metadata": {},
   "outputs": [],
   "source": [
    "tf.keras.backend.clear_session()  # clear default graph\n",
    "\n",
    "model3 = Sequential()\n",
    "model3.add(Conv2D(filters=8, kernel_size=(3,3), input_shape=new_input_shape))\n",
    "model3.add(Activation('relu'))\n",
    "                            \n",
    "model3.add(MaxPooling2D(pool_size=(2, 2)))\n",
    "\n",
    "model3.add(Conv2D(filters=8, kernel_size=(3,3), input_shape=new_input_shape))\n",
    "model3.add(Activation('relu'))\n",
    "                            \n",
    "model3.add(MaxPooling2D(pool_size=(2, 2)))\n",
    "\n",
    "model3.add(Flatten())\n",
    "    \n",
    "model3.add(Dense(32))    \n",
    "model3.add(Activation('relu'))\n",
    "\n",
    "model3.add(Dense(10))\n",
    "# This special \"softmax\" activation among other things,\n",
    "# ensures the output is a valid probaility distribution, that is\n",
    "# that its values are all non-negative and sum to 1.\n",
    "model3.add(Activation('softmax'))"
   ]
  },
  {
   "cell_type": "code",
   "execution_count": 130,
   "metadata": {},
   "outputs": [
    {
     "name": "stdout",
     "output_type": "stream",
     "text": [
      "Model: \"sequential\"\n",
      "_________________________________________________________________\n",
      "Layer (type)                 Output Shape              Param #   \n",
      "=================================================================\n",
      "conv2d (Conv2D)              (None, 26, 26, 8)         80        \n",
      "_________________________________________________________________\n",
      "activation (Activation)      (None, 26, 26, 8)         0         \n",
      "_________________________________________________________________\n",
      "max_pooling2d (MaxPooling2D) (None, 13, 13, 8)         0         \n",
      "_________________________________________________________________\n",
      "conv2d_1 (Conv2D)            (None, 11, 11, 8)         584       \n",
      "_________________________________________________________________\n",
      "activation_1 (Activation)    (None, 11, 11, 8)         0         \n",
      "_________________________________________________________________\n",
      "max_pooling2d_1 (MaxPooling2 (None, 5, 5, 8)           0         \n",
      "_________________________________________________________________\n",
      "flatten (Flatten)            (None, 200)               0         \n",
      "_________________________________________________________________\n",
      "dense (Dense)                (None, 32)                6432      \n",
      "_________________________________________________________________\n",
      "activation_2 (Activation)    (None, 32)                0         \n",
      "_________________________________________________________________\n",
      "dense_1 (Dense)              (None, 10)                330       \n",
      "_________________________________________________________________\n",
      "activation_3 (Activation)    (None, 10)                0         \n",
      "=================================================================\n",
      "Total params: 7,426\n",
      "Trainable params: 7,426\n",
      "Non-trainable params: 0\n",
      "_________________________________________________________________\n"
     ]
    }
   ],
   "source": [
    "model3.summary()"
   ]
  },
  {
   "cell_type": "code",
   "execution_count": 131,
   "metadata": {},
   "outputs": [],
   "source": [
    "model3.compile(optimizer='adam',\n",
    "              loss = 'categorical_crossentropy',\n",
    "              metrics = ['accuracy'])"
   ]
  },
  {
   "cell_type": "code",
   "execution_count": 132,
   "metadata": {},
   "outputs": [
    {
     "name": "stdout",
     "output_type": "stream",
     "text": [
      "Epoch 1/10\n",
      "525/525 [==============================] - 4s 7ms/step - loss: 2.0369 - accuracy: 0.6604 - val_loss: 0.4336 - val_accuracy: 0.8789\n",
      "Epoch 2/10\n",
      "525/525 [==============================] - 4s 7ms/step - loss: 0.3017 - accuracy: 0.9118 - val_loss: 0.2452 - val_accuracy: 0.9314\n",
      "Epoch 3/10\n",
      "525/525 [==============================] - 4s 7ms/step - loss: 0.1818 - accuracy: 0.9470 - val_loss: 0.1698 - val_accuracy: 0.9507\n",
      "Epoch 4/10\n",
      "525/525 [==============================] - 4s 7ms/step - loss: 0.1359 - accuracy: 0.9589 - val_loss: 0.1463 - val_accuracy: 0.9581\n",
      "Epoch 5/10\n",
      "525/525 [==============================] - 4s 7ms/step - loss: 0.1105 - accuracy: 0.9661 - val_loss: 0.1266 - val_accuracy: 0.9651\n",
      "Epoch 6/10\n",
      "525/525 [==============================] - 4s 8ms/step - loss: 0.0926 - accuracy: 0.9715 - val_loss: 0.1077 - val_accuracy: 0.9692\n",
      "Epoch 7/10\n",
      "525/525 [==============================] - 4s 8ms/step - loss: 0.0790 - accuracy: 0.9744 - val_loss: 0.1012 - val_accuracy: 0.9708\n",
      "Epoch 8/10\n",
      "525/525 [==============================] - 4s 8ms/step - loss: 0.0694 - accuracy: 0.9780 - val_loss: 0.1005 - val_accuracy: 0.9717\n",
      "Epoch 9/10\n",
      "525/525 [==============================] - 4s 8ms/step - loss: 0.0642 - accuracy: 0.9796 - val_loss: 0.0927 - val_accuracy: 0.9745\n",
      "Epoch 10/10\n",
      "525/525 [==============================] - 4s 7ms/step - loss: 0.0550 - accuracy: 0.9822 - val_loss: 0.0977 - val_accuracy: 0.9724\n",
      "CPU times: user 2min 14s, sys: 19 s, total: 2min 33s\n",
      "Wall time: 39.6 s\n"
     ]
    }
   ],
   "source": [
    "%%time\n",
    "\n",
    "history3 = model3.fit(\n",
    "    X_train_reshaped, \n",
    "    y_train,  # prepared data\n",
    "    batch_size=BATCH_SIZE,\n",
    "    epochs=EPOCHS,\n",
    "    validation_data=(X_test_reshaped, y_test),\n",
    "    verbose=1\n",
    ")"
   ]
  },
  {
   "cell_type": "code",
   "execution_count": 133,
   "metadata": {},
   "outputs": [
    {
     "data": {
      "image/png": "[encoded data removed]",
      "text/plain": [
       "<Figure size 432x288 with 1 Axes>"
      ]
     },
     "metadata": {
      "needs_background": "light"
     },
     "output_type": "display_data"
    },
    {
     "data": {
      "image/png": "[encoded data removed]",
      "text/plain": [
       "<Figure size 432x288 with 1 Axes>"
      ]
     },
     "metadata": {
      "needs_background": "light"
     },
     "output_type": "display_data"
    }
   ],
   "source": [
    "plot_train_val_accuracy(history3.history)\n",
    "\n",
    "plot_train_val_loss(history3.history)"
   ]
  },
  {
   "cell_type": "code",
   "execution_count": 134,
   "metadata": {},
   "outputs": [],
   "source": [
    "predictions_3 = model3.predict_classes(X_test_reshaped)\n",
    "\n",
    "predictions_3 = list(predictions_3)"
   ]
  },
  {
   "cell_type": "code",
   "execution_count": 135,
   "metadata": {},
   "outputs": [
    {
     "name": "stderr",
     "output_type": "stream",
     "text": [
      "/opt/anaconda3/envs/trainingnew/lib/python3.8/site-packages/sklearn/utils/validation.py:68: FutureWarning: Pass labels=[0, 1, 2, 3, 4, 5, 6, 7, 8, 9] as keyword args. From version 0.25 passing these as positional arguments will result in an error\n",
      "  warnings.warn(\"Pass {} as keyword args. From version 0.25 \"\n"
     ]
    },
    {
     "data": {
      "image/png": "[encoded data removed]",
      "text/plain": [
       "<Figure size 504x432 with 2 Axes>"
      ]
     },
     "metadata": {
      "needs_background": "light"
     },
     "output_type": "display_data"
    }
   ],
   "source": [
    "plot_confustion_matrix(predictions_3, \n",
    "                       y_actual_classes)"
   ]
  },
  {
   "cell_type": "code",
   "execution_count": 136,
   "metadata": {},
   "outputs": [],
   "source": [
    "from sklearn import metrics"
   ]
  },
  {
   "cell_type": "code",
   "execution_count": 137,
   "metadata": {},
   "outputs": [
    {
     "data": {
      "text/plain": [
       "0.9723809523809523"
      ]
     },
     "execution_count": 137,
     "metadata": {},
     "output_type": "execute_result"
    }
   ],
   "source": [
    "metrics.accuracy_score(predictions_3, \n",
    "                       y_actual_classes)"
   ]
  },
  {
   "cell_type": "markdown",
   "metadata": {},
   "source": [
    "### Which digits have gone wrong?"
   ]
  },
  {
   "cell_type": "code",
   "execution_count": 138,
   "metadata": {},
   "outputs": [],
   "source": [
    "y_actual_classes_list = list(y_actual_classes) "
   ]
  },
  {
   "cell_type": "code",
   "execution_count": 139,
   "metadata": {},
   "outputs": [],
   "source": [
    "digit_indexes = [i for i, val in enumerate(y_actual_classes_list) if val == 5]"
   ]
  },
  {
   "cell_type": "code",
   "execution_count": 140,
   "metadata": {},
   "outputs": [],
   "source": [
    "misclassfied_indexes = [i for i in digit_indexes if y_actual_classes_list[i] != predictions_3[i]]"
   ]
  },
  {
   "cell_type": "code",
   "execution_count": 141,
   "metadata": {},
   "outputs": [
    {
     "data": {
      "text/plain": [
       "[164, 445, 1233, 2199, 2814, 4733, 4803, 5602, 7148, 7811, 8302, 8368]"
      ]
     },
     "execution_count": 141,
     "metadata": {},
     "output_type": "execute_result"
    }
   ],
   "source": [
    "misclassfied_indexes"
   ]
  },
  {
   "cell_type": "code",
   "execution_count": 142,
   "metadata": {},
   "outputs": [
    {
     "data": {
      "image/png": "[encoded data removed]",
      "text/plain": [
       "<Figure size 1080x432 with 12 Axes>"
      ]
     },
     "metadata": {},
     "output_type": "display_data"
    }
   ],
   "source": [
    "k = 1\n",
    "plt.figure( figsize=(15, 6))\n",
    "for i in misclassfied_indexes:\n",
    "    plt.subplot(2, len(misclassfied_indexes)/2, k);\n",
    "    plt.xticks([])\n",
    "    plt.yticks([])    \n",
    "    plt.imshow(X_test[i])\n",
    "    plt.title(str(predictions_3[i]) + str())\n",
    "    k = k + 1\n",
    "plt.show()"
   ]
  },
  {
   "cell_type": "markdown",
   "metadata": {},
   "source": [
    "### Saving Model"
   ]
  },
  {
   "cell_type": "code",
   "execution_count": 143,
   "metadata": {},
   "outputs": [],
   "source": [
    "model3.save('digits_model_3.h5')"
   ]
  },
  {
   "cell_type": "code",
   "execution_count": 144,
   "metadata": {},
   "outputs": [
    {
     "name": "stdout",
     "output_type": "stream",
     "text": [
      "total 6672\r\n",
      "drwxr-xr-x  14 manaranjan  staff      476 Aug 29 14:34 \u001b[34m.\u001b[m\u001b[m\r\n",
      "drwxr-xr-x   7 manaranjan  staff      238 Aug 28 20:45 \u001b[34m..\u001b[m\u001b[m\r\n",
      "-rw-r--r--@  1 manaranjan  staff     6148 Aug 29 09:56 .DS_Store\r\n",
      "drwxr-xr-x   6 manaranjan  staff      204 Aug 29 10:29 \u001b[34m.ipynb_checkpoints\u001b[m\u001b[m\r\n",
      "-rw-r--r--@  1 manaranjan  staff   110076 Aug 23 17:04 Boston House - NN Model 1.0.ipynb\r\n",
      "-rw-r--r--   1 manaranjan  staff   583461 Aug 29 09:55 House_Price_Analysis_New_2.0.ipynb\r\n",
      "-rw-r--r--@  1 manaranjan  staff   305224 Aug 23 17:03 IMDB Classification - BoW and Embeddings.ipynb\r\n",
      "-rw-r--r--@  1 manaranjan  staff   105856 Aug 23 17:04 IMDB Classification - Sequence Modelling.ipynb\r\n",
      "-rw-r--r--@  1 manaranjan  staff   259018 Aug 29 14:32 MNIST Digit Classification.ipynb\r\n",
      "-rw-r--r--@  1 manaranjan  staff   231804 Aug 29 10:20 Scania Truck Failure Prediction 1.0.ipynb\r\n",
      "-rw-r--r--@  1 manaranjan  staff    30151 Aug 29 10:27 Sentiment Analysis 1.0.ipynb\r\n",
      "-rw-r--r--@  1 manaranjan  staff  1631699 Aug 23 17:20 Tomato+Transfer+Learning+-+Binary.ipynb\r\n",
      "-rw-r--r--   1 manaranjan  staff   133744 Aug 29 14:34 digits_model_3.h5\r\n",
      "drwxr-xr-x   2 manaranjan  staff       68 Aug 29 14:23 \u001b[34mmnist\u001b[m\u001b[m\r\n"
     ]
    }
   ],
   "source": [
    "!ls -al"
   ]
  },
  {
   "cell_type": "markdown",
   "metadata": {},
   "source": [
    "## Load model and make prediction"
   ]
  },
  {
   "cell_type": "code",
   "execution_count": 148,
   "metadata": {},
   "outputs": [],
   "source": [
    "from tensorflow.keras.models import load_model\n",
    "\n",
    "new_model = load_model('digits_model_3.h5')"
   ]
  },
  {
   "cell_type": "code",
   "execution_count": 149,
   "metadata": {},
   "outputs": [],
   "source": [
    "predictions_new = new_model.predict_classes(X_test_reshaped)"
   ]
  },
  {
   "cell_type": "code",
   "execution_count": 150,
   "metadata": {},
   "outputs": [
    {
     "data": {
      "text/plain": [
       "array([8, 1, 9, 9, 8, 5, 2, 2, 7, 1])"
      ]
     },
     "execution_count": 150,
     "metadata": {},
     "output_type": "execute_result"
    }
   ],
   "source": [
    "predictions_new[0:10]"
   ]
  },
  {
   "cell_type": "markdown",
   "metadata": {},
   "source": [
    "### Dive Deeper into the Model Weights"
   ]
  },
  {
   "cell_type": "code",
   "execution_count": 151,
   "metadata": {},
   "outputs": [],
   "source": [
    "weights = model3.get_weights()"
   ]
  },
  {
   "cell_type": "markdown",
   "metadata": {},
   "source": [
    "#### Checking the weights metrics dimensions"
   ]
  },
  {
   "cell_type": "code",
   "execution_count": 152,
   "metadata": {},
   "outputs": [
    {
     "data": {
      "text/plain": [
       "(3, 3, 1, 8)"
      ]
     },
     "execution_count": 152,
     "metadata": {},
     "output_type": "execute_result"
    }
   ],
   "source": [
    "weights[0].shape"
   ]
  },
  {
   "cell_type": "code",
   "execution_count": 153,
   "metadata": {},
   "outputs": [
    {
     "data": {
      "text/plain": [
       "(8,)"
      ]
     },
     "execution_count": 153,
     "metadata": {},
     "output_type": "execute_result"
    }
   ],
   "source": [
    "weights[1].shape"
   ]
  },
  {
   "cell_type": "code",
   "execution_count": 154,
   "metadata": {},
   "outputs": [
    {
     "data": {
      "text/plain": [
       "(3, 3, 8, 8)"
      ]
     },
     "execution_count": 154,
     "metadata": {},
     "output_type": "execute_result"
    }
   ],
   "source": [
    "weights[2].shape"
   ]
  },
  {
   "cell_type": "code",
   "execution_count": 155,
   "metadata": {},
   "outputs": [
    {
     "data": {
      "text/plain": [
       "(8,)"
      ]
     },
     "execution_count": 155,
     "metadata": {},
     "output_type": "execute_result"
    }
   ],
   "source": [
    "weights[3].shape"
   ]
  },
  {
   "cell_type": "code",
   "execution_count": 156,
   "metadata": {},
   "outputs": [
    {
     "data": {
      "text/plain": [
       "(200, 32)"
      ]
     },
     "execution_count": 156,
     "metadata": {},
     "output_type": "execute_result"
    }
   ],
   "source": [
    "weights[4].shape"
   ]
  },
  {
   "cell_type": "markdown",
   "metadata": {},
   "source": [
    "#### Get the first filter in first convolution layer"
   ]
  },
  {
   "cell_type": "code",
   "execution_count": 157,
   "metadata": {},
   "outputs": [],
   "source": [
    "filter1 = weights[0][:,:,:,0:1].reshape(3, 3)"
   ]
  },
  {
   "cell_type": "code",
   "execution_count": 158,
   "metadata": {},
   "outputs": [
    {
     "data": {
      "text/plain": [
       "array([[ 0.0507,  0.1832,  0.0148],\n",
       "       [-0.1064, -0.0728,  0.0197],\n",
       "       [ 0.1038, -0.0117, -0.0189]], dtype=float32)"
      ]
     },
     "execution_count": 158,
     "metadata": {},
     "output_type": "execute_result"
    }
   ],
   "source": [
    "filter1"
   ]
  },
  {
   "cell_type": "markdown",
   "metadata": {},
   "source": [
    "#### Applying the convolutions to one image"
   ]
  },
  {
   "cell_type": "code",
   "execution_count": 159,
   "metadata": {},
   "outputs": [
    {
     "data": {
      "image/png": "[encoded data removed]",
      "text/plain": [
       "<Figure size 432x288 with 1 Axes>"
      ]
     },
     "metadata": {
      "needs_background": "light"
     },
     "output_type": "display_data"
    }
   ],
   "source": [
    "convtop = convolve(image_buffer[2].reshape(28, 28), \n",
    "                   filter1)\n",
    "plt.grid(False)\n",
    "plt.imshow(convtop);"
   ]
  }
 ],
 "metadata": {
  "kernelspec": {
   "display_name": "Python 3",
   "language": "python",
   "name": "python3"
  },
  "language_info": {
   "codemirror_mode": {
    "name": "ipython",
    "version": 3
   },
   "file_extension": ".py",
   "mimetype": "text/x-python",
   "name": "python",
   "nbconvert_exporter": "python",
   "pygments_lexer": "ipython3",
   "version": "3.8.3"
  }
 },
 "nbformat": 4,
 "nbformat_minor": 2
}
